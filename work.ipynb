{
 "cells": [
  {
   "cell_type": "code",
   "execution_count": 8,
   "metadata": {},
   "outputs": [],
   "source": [
    "import pandas as pd\n",
    "import numpy as np\n",
    "import os\n",
    "from glob import glob\n",
    "import zipfile"
   ]
  },
  {
   "cell_type": "code",
   "execution_count": 9,
   "metadata": {},
   "outputs": [],
   "source": [
    "raw_path = 'Data-20250729T201332Z-1-001.zip'"
   ]
  },
  {
   "cell_type": "code",
   "execution_count": 10,
   "metadata": {},
   "outputs": [
    {
     "name": "stdout",
     "output_type": "stream",
     "text": [
      "Archive:  Data-20250729T201332Z-1-001.zip\n",
      "  inflating: zipped_data/Data/How to use data.docx  \n",
      "  inflating: zipped_data/Data/CRWV.zip  \n",
      "  inflating: zipped_data/Data/FROG.zip  \n",
      "  inflating: zipped_data/Data/SOUN.zip  \n"
     ]
    }
   ],
   "source": [
    "!unzip {raw_path} -d zipped_data"
   ]
  },
  {
   "cell_type": "code",
   "execution_count": 15,
   "metadata": {},
   "outputs": [
    {
     "name": "stdout",
     "output_type": "stream",
     "text": [
      "Extracted zipped_data/Data/FROG.zip → data/FROG\n",
      "Extracted zipped_data/Data/CRWV.zip → data/CRWV\n",
      "Extracted zipped_data/Data/SOUN.zip → data/SOUN\n"
     ]
    }
   ],
   "source": [
    "input_zip_dir = 'zipped_data/Data'\n",
    "output_extract_dir = 'data'\n",
    "\n",
    "for path in glob(os.path.join(input_zip_dir, '*.zip')):\n",
    "    ticker_name = os.path.splitext(os.path.basename(path))[0]\n",
    "    target_path = os.path.join(output_extract_dir, ticker_name)\n",
    "\n",
    "    os.makedirs(target_path, exist_ok=True)\n",
    "\n",
    "    with zipfile.ZipFile(path, 'r') as zip_ref:\n",
    "        zip_ref.extractall(target_path)\n",
    "\n",
    "    print(f\"Extracted {path} → {target_path}\")\n"
   ]
  },
  {
   "cell_type": "code",
   "execution_count": null,
   "metadata": {},
   "outputs": [],
   "source": [
    "dfs = []\n",
    "for "
   ]
  }
 ],
 "metadata": {
  "kernelspec": {
   "display_name": "Python 3",
   "language": "python",
   "name": "python3"
  },
  "language_info": {
   "codemirror_mode": {
    "name": "ipython",
    "version": 3
   },
   "file_extension": ".py",
   "mimetype": "text/x-python",
   "name": "python",
   "nbconvert_exporter": "python",
   "pygments_lexer": "ipython3",
   "version": "3.11.10"
  }
 },
 "nbformat": 4,
 "nbformat_minor": 2
}
